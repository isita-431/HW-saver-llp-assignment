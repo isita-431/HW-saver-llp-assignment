{
 "cells": [
  {
   "cell_type": "markdown",
   "id": "ce9b612a",
   "metadata": {},
   "source": [
    "# Machine learning assignment "
   ]
  },
  {
   "cell_type": "markdown",
   "id": "e5e99f3d",
   "metadata": {},
   "source": [
    "## Let's use the BoxDetect package to crop images"
   ]
  },
  {
   "cell_type": "markdown",
   "id": "e4016788",
   "metadata": {},
   "source": [
    "BoxDetect is a Python package based on OpenCV which allows you to easily detect rectangular shapes like character or checkbox boxes on scanned forms.\n",
    "\n",
    "Main purpose of this library is to provide helpful functions for processing document images like bank forms, applications, etc. and extract regions where character boxes or tick/check boxes are present."
   ]
  },
  {
   "cell_type": "code",
   "execution_count": 131,
   "id": "92bb1104",
   "metadata": {},
   "outputs": [],
   "source": [
    "from boxdetect import config\n",
    "\n",
    "file_name = 'Files/Raw_Image.jpg'\n",
    "\n",
    "cfg = config.PipelinesConfig()\n",
    "\n",
    "# important to adjust these values to match the size of boxes on your image\n",
    "cfg.width_range = (10,100)\n",
    "cfg.height_range = (10,100)\n",
    "\n",
    "# the more scaling factors the more accurate the results but also it takes more time to processing\n",
    "# too small scaling factor may cause false positives\n",
    "# too big scaling factor will take a lot of processing time\n",
    "cfg.scaling_factors = [10]\n",
    "\n",
    "# w/h ratio range for boxes/rectangles filtering\n",
    "cfg.wh_ratio_range = (0.5, 1.7)\n",
    "\n",
    "# group_size_range starting from 2 will skip all the groups\n",
    "# with a single box detected inside (like checkboxes)\n",
    "cfg.group_size_range = (2, 100)\n",
    "\n",
    "# num of iterations when running dilation tranformation (to engance the image)\n",
    "cfg.dilation_iterations = 0"
   ]
  },
  {
   "cell_type": "code",
   "execution_count": 95,
   "id": "8553f830",
   "metadata": {},
   "outputs": [
    {
     "name": "stdout",
     "output_type": "stream",
     "text": [
      "Processing file:  Files/Raw_Image.jpg\n"
     ]
    }
   ],
   "source": [
    "from boxdetect.pipelines import get_boxes\n",
    "import matplotlib.pyplot as plt\n",
    "\n",
    "rects, grouping_rects, image, output_image = get_boxes(\n",
    "    file_name, cfg=cfg, plot=False)"
   ]
  },
  {
   "cell_type": "code",
   "execution_count": 96,
   "id": "65d1f1c7",
   "metadata": {},
   "outputs": [
    {
     "name": "stdout",
     "output_type": "stream",
     "text": [
      "[[12 15 24 24]]\n"
     ]
    }
   ],
   "source": [
    "print(rects)"
   ]
  },
  {
   "cell_type": "code",
   "execution_count": 97,
   "id": "c336735e",
   "metadata": {},
   "outputs": [
    {
     "name": "stdout",
     "output_type": "stream",
     "text": [
      "[]\n"
     ]
    }
   ],
   "source": [
    "print(grouping_rects)"
   ]
  },
  {
   "cell_type": "code",
   "execution_count": 98,
   "id": "3d36bb34",
   "metadata": {},
   "outputs": [
    {
     "data": {
      "image/png": "[encoded data removed]",
      "text/plain": [
       "<Figure size 1440x1440 with 1 Axes>"
      ]
     },
     "metadata": {
      "needs_background": "light"
     },
     "output_type": "display_data"
    }
   ],
   "source": [
    "plt.figure(figsize=(20,20))\n",
    "plt.imshow(output_image)\n",
    "plt.show()\n"
   ]
  },
  {
   "cell_type": "code",
   "execution_count": 99,
   "id": "09d17312",
   "metadata": {},
   "outputs": [],
   "source": [
    "# limit down the grouping algorithm to just singular boxes (e.g. checkboxes)\n",
    "cfg.group_size_range = (1, 1)"
   ]
  },
  {
   "cell_type": "code",
   "execution_count": 100,
   "id": "8a2f4756",
   "metadata": {},
   "outputs": [
    {
     "name": "stdout",
     "output_type": "stream",
     "text": [
      "Processing file:  Files/Raw_Image.jpg\n",
      "----------------------------------\n",
      "nonzero_px_count:  33\n",
      "all_px_count:  361\n",
      "nonzero_px_count / all_px_count =  0.09141274238227147\n",
      "----------------------------------\n"
     ]
    },
    {
     "name": "stderr",
     "output_type": "stream",
     "text": [
      "/Users/isita/Downloads/anaconda3/lib/python3.8/site-packages/numpy/core/_asarray.py:83: VisibleDeprecationWarning: Creating an ndarray from ragged nested sequences (which is a list-or-tuple of lists-or-tuples-or ndarrays with different lengths or shapes) is deprecated. If you meant to do this, you must specify 'dtype=object' when creating the ndarray\n",
      "  return array(a, dtype, copy=False, order=order)\n"
     ]
    }
   ],
   "source": [
    "from boxdetect.pipelines import get_checkboxes\n",
    "\n",
    "checkboxes = get_checkboxes(\n",
    "    file_name, cfg=cfg, px_threshold=0.1, plot=False, verbose=True)"
   ]
  },
  {
   "cell_type": "code",
   "execution_count": 101,
   "id": "a738e1c6",
   "metadata": {},
   "outputs": [
    {
     "name": "stdout",
     "output_type": "stream",
     "text": [
      "Output object type:  <class 'numpy.ndarray'>\n",
      "Checkbox bounding rectangle (x,y,width,height):  (12, 15, 25, 25)\n",
      "Result of `contains_pixels` for the checkbox:  False\n",
      "Display the cropout of checkbox:\n"
     ]
    },
    {
     "data": {
      "image/png": "[encoded data removed]",
      "text/plain": [
       "<Figure size 432x288 with 1 Axes>"
      ]
     },
     "metadata": {
      "needs_background": "light"
     },
     "output_type": "display_data"
    }
   ],
   "source": [
    "print(\"Output object type: \", type(checkboxes))\n",
    "for checkbox in checkboxes:\n",
    "    print(\"Checkbox bounding rectangle (x,y,width,height): \", checkbox[0])\n",
    "    print(\"Result of `contains_pixels` for the checkbox: \", checkbox[1])\n",
    "    print(\"Display the cropout of checkbox:\")\n",
    "#     print(checkbox)\n",
    "    plt.imshow(checkbox[2],cmap='Accent')\n",
    "    plt.show()"
   ]
  },
  {
   "cell_type": "code",
   "execution_count": 102,
   "id": "a5a2be7e",
   "metadata": {
    "scrolled": true
   },
   "outputs": [
    {
     "data": {
      "image/png": "[encoded data removed]",
      "text/plain": [
       "<Figure size 432x288 with 1 Axes>"
      ]
     },
     "metadata": {
      "needs_background": "light"
     },
     "output_type": "display_data"
    }
   ],
   "source": [
    "import cv2\n",
    "img = cv2.imread(file_name) \n",
    "plt.imshow(img)\n",
    "plt.show()"
   ]
  },
  {
   "cell_type": "markdown",
   "id": "060e1b8f",
   "metadata": {},
   "source": [
    "## cropping image based on the rectangular coordinates retrieved"
   ]
  },
  {
   "cell_type": "code",
   "execution_count": 130,
   "id": "d5380c0c",
   "metadata": {
    "scrolled": true
   },
   "outputs": [
    {
     "name": "stdout",
     "output_type": "stream",
     "text": [
      "Output object type:  <class 'numpy.ndarray'>\n",
      "Checkbox bounding rectangle (x,y,width,height):  (19, 13, 22, 22)\n",
      "19 13 22 22\n",
      "Result of `contains_pixels` for the checkbox:  True\n",
      "Display the cropout of checkbox:\n"
     ]
    },
    {
     "data": {
      "image/png": "[encoded data removed]",
      "text/plain": [
       "<Figure size 432x288 with 1 Axes>"
      ]
     },
     "metadata": {
      "needs_background": "light"
     },
     "output_type": "display_data"
    }
   ],
   "source": [
    "print(\"Output object type: \", type(checkboxes))\n",
    "for checkbox in checkboxes:\n",
    "    print(\"Checkbox bounding rectangle (x,y,width,height): \", checkbox[0])\n",
    "    x,y,w,h = [int(i) for i in checkbox[0]]\n",
    "    print(x,y,w,h)\n",
    "    print(\"Result of `contains_pixels` for the checkbox: \", checkbox[1])\n",
    "    print(\"Display the cropout of checkbox:\")\n",
    "#     print(checkbox)\n",
    "    crop_img = img[y:y+h, x:x+w]\n",
    "#     print(crop_img)\n",
    "    plt.imshow(crop_img)\n",
    "    plt.axis('off')\n",
    "    # saving the image\n",
    "    plt.savefig('clean_image.jpg')\n",
    "    plt.show()"
   ]
  },
  {
   "cell_type": "code",
   "execution_count": 104,
   "id": "38d15ee5",
   "metadata": {},
   "outputs": [
    {
     "name": "stdout",
     "output_type": "stream",
     "text": [
      "['Files/Raw_Dataset/img-1.jpg', 'Files/Raw_Dataset/img-2.jpg', 'Files/Raw_Dataset/img-3.jpg', 'Files/Raw_Dataset/img-4.jpg', 'Files/Raw_Dataset/img-5.jpg', 'Files/Raw_Dataset/img-6.jpg', 'Files/Raw_Dataset/img-7.jpg', 'Files/Raw_Dataset/img-8.jpg', 'Files/Raw_Dataset/img-9.jpg']\n"
     ]
    }
   ],
   "source": [
    "l=[]\n",
    "for i in range(1,10):\n",
    "    l.append('Files/Raw_Dataset/img-'+str(i)+'.jpg')\n",
    "print(l)"
   ]
  },
  {
   "cell_type": "code",
   "execution_count": 133,
   "id": "c9be9f29",
   "metadata": {},
   "outputs": [
    {
     "name": "stdout",
     "output_type": "stream",
     "text": [
      "Processing file:  Files/Raw_Dataset/img-1.jpg\n",
      "WARNING: No rectangles were found in the input image.\n",
      "Processing file:  Files/Raw_Dataset/img-2.jpg\n",
      "----------------------------------\n",
      "nonzero_px_count:  33\n",
      "all_px_count:  324\n",
      "nonzero_px_count / all_px_count =  0.10185185185185185\n",
      "----------------------------------\n",
      "Checkbox bounding rectangle (x,y,width,height):  (12, 15, 24, 24)\n",
      "12 15 24 24\n",
      "Result of `contains_pixels` for the checkbox:  True\n",
      "Display the cropout of checkbox:\n"
     ]
    },
    {
     "name": "stderr",
     "output_type": "stream",
     "text": [
      "/Users/isita/Downloads/anaconda3/lib/python3.8/site-packages/numpy/core/_asarray.py:83: VisibleDeprecationWarning: Creating an ndarray from ragged nested sequences (which is a list-or-tuple of lists-or-tuples-or ndarrays with different lengths or shapes) is deprecated. If you meant to do this, you must specify 'dtype=object' when creating the ndarray\n",
      "  return array(a, dtype, copy=False, order=order)\n"
     ]
    },
    {
     "data": {
      "image/png": "[encoded data removed]",
      "text/plain": [
       "<Figure size 432x288 with 1 Axes>"
      ]
     },
     "metadata": {
      "needs_background": "light"
     },
     "output_type": "display_data"
    },
    {
     "name": "stdout",
     "output_type": "stream",
     "text": [
      "Processing file:  Files/Raw_Dataset/img-3.jpg\n",
      "----------------------------------\n",
      "nonzero_px_count:  85\n",
      "all_px_count:  361\n",
      "nonzero_px_count / all_px_count =  0.23545706371191136\n",
      "----------------------------------\n",
      "Checkbox bounding rectangle (x,y,width,height):  (12, 11, 25, 25)\n",
      "12 11 25 25\n",
      "Result of `contains_pixels` for the checkbox:  True\n",
      "Display the cropout of checkbox:\n"
     ]
    },
    {
     "data": {
      "image/png": "[encoded data removed]",
      "text/plain": [
       "<Figure size 432x288 with 1 Axes>"
      ]
     },
     "metadata": {
      "needs_background": "light"
     },
     "output_type": "display_data"
    },
    {
     "name": "stdout",
     "output_type": "stream",
     "text": [
      "Processing file:  Files/Raw_Dataset/img-4.jpg\n",
      "----------------------------------\n",
      "nonzero_px_count:  96\n",
      "all_px_count:  361\n",
      "nonzero_px_count / all_px_count =  0.2659279778393352\n",
      "----------------------------------\n",
      "Checkbox bounding rectangle (x,y,width,height):  (12, 13, 25, 25)\n",
      "12 13 25 25\n",
      "Result of `contains_pixels` for the checkbox:  True\n",
      "Display the cropout of checkbox:\n"
     ]
    },
    {
     "data": {
      "image/png": "[encoded data removed]",
      "text/plain": [
       "<Figure size 432x288 with 1 Axes>"
      ]
     },
     "metadata": {
      "needs_background": "light"
     },
     "output_type": "display_data"
    },
    {
     "name": "stdout",
     "output_type": "stream",
     "text": [
      "Processing file:  Files/Raw_Dataset/img-5.jpg\n",
      "----------------------------------\n",
      "nonzero_px_count:  96\n",
      "all_px_count:  361\n",
      "nonzero_px_count / all_px_count =  0.2659279778393352\n",
      "----------------------------------\n",
      "Checkbox bounding rectangle (x,y,width,height):  (12, 13, 25, 25)\n",
      "12 13 25 25\n",
      "Result of `contains_pixels` for the checkbox:  True\n",
      "Display the cropout of checkbox:\n"
     ]
    },
    {
     "data": {
      "image/png": "[encoded data removed]",
      "text/plain": [
       "<Figure size 432x288 with 1 Axes>"
      ]
     },
     "metadata": {
      "needs_background": "light"
     },
     "output_type": "display_data"
    },
    {
     "name": "stdout",
     "output_type": "stream",
     "text": [
      "Processing file:  Files/Raw_Dataset/img-6.jpg\n",
      "WARNING: No rectangles were found in the input image.\n",
      "Processing file:  Files/Raw_Dataset/img-7.jpg\n",
      "----------------------------------\n",
      "nonzero_px_count:  0\n",
      "all_px_count:  2600\n",
      "nonzero_px_count / all_px_count =  0.0\n",
      "----------------------------------\n",
      "Checkbox bounding rectangle (x,y,width,height):  (20, 35, 72, 70)\n",
      "20 35 72 70\n",
      "Result of `contains_pixels` for the checkbox:  False\n",
      "Display the cropout of checkbox:\n"
     ]
    },
    {
     "data": {
      "image/png": "[encoded data removed]",
      "text/plain": [
       "<Figure size 432x288 with 1 Axes>"
      ]
     },
     "metadata": {
      "needs_background": "light"
     },
     "output_type": "display_data"
    },
    {
     "name": "stdout",
     "output_type": "stream",
     "text": [
      "Processing file:  Files/Raw_Dataset/img-8.jpg\n",
      "----------------------------------\n",
      "nonzero_px_count:  122\n",
      "all_px_count:  256\n",
      "nonzero_px_count / all_px_count =  0.4765625\n",
      "----------------------------------\n",
      "Checkbox bounding rectangle (x,y,width,height):  (19, 13, 22, 22)\n",
      "19 13 22 22\n",
      "Result of `contains_pixels` for the checkbox:  True\n",
      "Display the cropout of checkbox:\n"
     ]
    },
    {
     "data": {
      "image/png": "[encoded data removed]",
      "text/plain": [
       "<Figure size 432x288 with 1 Axes>"
      ]
     },
     "metadata": {
      "needs_background": "light"
     },
     "output_type": "display_data"
    },
    {
     "name": "stdout",
     "output_type": "stream",
     "text": [
      "Processing file:  Files/Raw_Dataset/img-9.jpg\n",
      "----------------------------------\n",
      "nonzero_px_count:  122\n",
      "all_px_count:  256\n",
      "nonzero_px_count / all_px_count =  0.4765625\n",
      "----------------------------------\n",
      "Checkbox bounding rectangle (x,y,width,height):  (19, 13, 22, 22)\n",
      "19 13 22 22\n",
      "Result of `contains_pixels` for the checkbox:  True\n",
      "Display the cropout of checkbox:\n"
     ]
    },
    {
     "data": {
      "image/png": "[encoded data removed]",
      "text/plain": [
       "<Figure size 432x288 with 1 Axes>"
      ]
     },
     "metadata": {
      "needs_background": "light"
     },
     "output_type": "display_data"
    }
   ],
   "source": [
    "from boxdetect.pipelines import get_checkboxes\n",
    "n=0\n",
    "for i in l:\n",
    "    n=n+1\n",
    "    checkboxes = get_checkboxes(\n",
    "    i, cfg=cfg, px_threshold=0.01, plot=False, verbose=True)\n",
    "#     print(\"Output object type: \", type(checkboxes))\n",
    "    for checkbox in checkboxes:\n",
    "        print(\"Checkbox bounding rectangle (x,y,width,height): \", checkbox[0])\n",
    "        x,y,w,h = [int(i) for i in checkbox[0]]\n",
    "        print(x,y,w,h)\n",
    "        print(\"Result of `contains_pixels` for the checkbox: \", checkbox[1])\n",
    "        print(\"Display the cropout of checkbox:\")\n",
    "#       print(checkbox)\n",
    "        img = cv2.imread(i) \n",
    "        crop_img = img[y:y+h, x:x+w]\n",
    "#         print(crop_img)\n",
    "        plt.imshow(crop_img)\n",
    "        plt.axis('off')\n",
    "        # saving the image\n",
    "        plt.savefig('clean_image'+str(n)+'.jpg')\n",
    "        plt.show()"
   ]
  },
  {
   "cell_type": "markdown",
   "id": "11324e12",
   "metadata": {},
   "source": [
    "Note : as we keep changing the cfg.scaling_factors parameter we'll get the results accordingly.\n",
    "a large scaling factor will take more time to process, We cannot be sure if there's an optinum scaling factor which fits for all the images. We can increase or decrease the value to check out the results."
   ]
  },
  {
   "cell_type": "markdown",
   "id": "9d6544f1",
   "metadata": {},
   "source": [
    "for 0.8 scaling factor we can get the output of the first image\n",
    "10 or 0.3 scaling factor to get the 7th cleaned image. we can also provide multiple scaling factors."
   ]
  },
  {
   "cell_type": "code",
   "execution_count": null,
   "id": "36c8473a",
   "metadata": {},
   "outputs": [],
   "source": []
  }
 ],
 "metadata": {
  "kernelspec": {
   "display_name": "Python 3 (ipykernel)",
   "language": "python",
   "name": "python3"
  },
  "language_info": {
   "codemirror_mode": {
    "name": "ipython",
    "version": 3
   },
   "file_extension": ".py",
   "mimetype": "text/x-python",
   "name": "python",
   "nbconvert_exporter": "python",
   "pygments_lexer": "ipython3",
   "version": "3.8.8"
  }
 },
 "nbformat": 4,
 "nbformat_minor": 5
}
